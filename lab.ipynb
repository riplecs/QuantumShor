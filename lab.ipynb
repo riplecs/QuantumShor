{
 "cells": [
  {
   "cell_type": "code",
   "execution_count": 1,
   "id": "836d5370",
   "metadata": {},
   "outputs": [],
   "source": [
    "from qiskit import QuantumCircuit, Aer, transpile\n",
    "from qiskit.circuit.library import QFT, RGQFTMultiplier\n",
    "from qiskit.visualization import plot_histogram\n",
    "\n",
    "import matplotlib.pyplot as plt\n",
    "import numpy as np\n",
    "import pandas as pd\n",
    "import math\n",
    "\n",
    "from fractions import Fraction\n",
    "from collections import Counter"
   ]
  },
  {
   "cell_type": "code",
   "execution_count": 2,
   "id": "df9a9e11",
   "metadata": {},
   "outputs": [
    {
     "name": "stdout",
     "output_type": "stream",
     "text": [
      "q = 9, n = 5, Q = 512\n"
     ]
    }
   ],
   "source": [
    "a, N = 4, 21\n",
    "\n",
    "q = 1\n",
    "while True:\n",
    "    if 2**q >= N**2:\n",
    "        break\n",
    "    q += 1\n",
    "\n",
    "n = int(np.ceil(np.log2(N)))\n",
    "Q = 2**q\n",
    "\n",
    "print(f'q = {q}, n = {n}, Q = {Q}')"
   ]
  },
  {
   "cell_type": "code",
   "execution_count": 3,
   "id": "200aa065",
   "metadata": {},
   "outputs": [
    {
     "name": "stdout",
     "output_type": "stream",
     "text": [
      "continue\n"
     ]
    }
   ],
   "source": [
    "p = math.gcd(a, N)\n",
    "if p > 1:\n",
    "    print('Answer: p = ', p, 'q = ', N//p)\n",
    "else:\n",
    "    print('continue')"
   ]
  },
  {
   "cell_type": "code",
   "execution_count": 4,
   "id": "3da31bfe",
   "metadata": {},
   "outputs": [
    {
     "name": "stdout",
     "output_type": "stream",
     "text": [
      "4^0 mod 21 =  1  = 10000\n",
      "4^1 mod 21 =  4  = 00100\n",
      "4^2 mod 21 =  16  = 00001\n",
      "4^3 mod 21 =  1  = 10000\n"
     ]
    }
   ],
   "source": [
    "for i in range(N):\n",
    "    print(f'{a}^{i} mod {N} = ', a**i%N, f' = {(\"0\"*(n - len(bin(a**i%N)[2:])) + bin(a**i%N)[2:])[::-1]}')\n",
    "    if i > 0 and a**i%N == 1:\n",
    "        break"
   ]
  },
  {
   "cell_type": "code",
   "execution_count": 5,
   "id": "f4d7763c",
   "metadata": {},
   "outputs": [],
   "source": [
    "def Uf(a, x):\n",
    "    \n",
    "    U = QuantumCircuit(n)\n",
    "    \n",
    "    for _ in range(x):\n",
    "        \n",
    "        if a == 4:\n",
    "            U.swap(4, 2)\n",
    "            U.swap(2, 0)\n",
    "            \n",
    "        if a == 5:\n",
    "            U.x(0)\n",
    "            U.x(2)\n",
    "            U.x(4)\n",
    "            U.swap(4, 2)\n",
    "            U.swap(4, 0)\n",
    "        \n",
    "        if a == 8:\n",
    "            U.swap(0, 3)\n",
    "    \n",
    "    U = U.to_gate()\n",
    "    U.name = f'{a}^{x} mod {N}'\n",
    "    c_U = U.control()\n",
    "    \n",
    "    return c_U"
   ]
  },
  {
   "cell_type": "code",
   "execution_count": 6,
   "id": "af435eb9",
   "metadata": {},
   "outputs": [],
   "source": [
    "work_reg = [i + q for i in range(n)]"
   ]
  },
  {
   "cell_type": "code",
   "execution_count": 7,
   "id": "1071b7e5",
   "metadata": {},
   "outputs": [
    {
     "data": {
      "text/html": [
       "<pre style=\"word-wrap: normal;white-space: pre;background: #fff0;line-height: 1.1;font-family: &quot;Courier New&quot;,Courier,monospace\">      ┌───┐                                                                                                                                              ┌───────┐┌─┐                        \n",
       " q_0: ┤ H ├───────■──────────────────────────────────────────────────────────────────────────────────────────────────────────────────────────────────────┤0      ├┤M├────────────────────────\n",
       "      ├───┤       │                                                                                                                                      │       │└╥┘┌─┐                     \n",
       " q_1: ┤ H ├───────┼──────────────■───────────────────────────────────────────────────────────────────────────────────────────────────────────────────────┤1      ├─╫─┤M├─────────────────────\n",
       "      ├───┤       │              │                                                                                                                       │       │ ║ └╥┘┌─┐                  \n",
       " q_2: ┤ H ├───────┼──────────────┼──────────────■────────────────────────────────────────────────────────────────────────────────────────────────────────┤2      ├─╫──╫─┤M├──────────────────\n",
       "      ├───┤       │              │              │                                                                                                        │       │ ║  ║ └╥┘┌─┐               \n",
       " q_3: ┤ H ├───────┼──────────────┼──────────────┼──────────────■─────────────────────────────────────────────────────────────────────────────────────────┤3      ├─╫──╫──╫─┤M├───────────────\n",
       "      ├───┤       │              │              │              │                                                                                         │       │ ║  ║  ║ └╥┘┌─┐            \n",
       " q_4: ┤ H ├───────┼──────────────┼──────────────┼──────────────┼──────────────■──────────────────────────────────────────────────────────────────────────┤4 IQFT ├─╫──╫──╫──╫─┤M├────────────\n",
       "      ├───┤       │              │              │              │              │                                                                          │       │ ║  ║  ║  ║ └╥┘┌─┐         \n",
       " q_5: ┤ H ├───────┼──────────────┼──────────────┼──────────────┼──────────────┼───────────────■──────────────────────────────────────────────────────────┤5      ├─╫──╫──╫──╫──╫─┤M├─────────\n",
       "      ├───┤       │              │              │              │              │               │                                                          │       │ ║  ║  ║  ║  ║ └╥┘┌─┐      \n",
       " q_6: ┤ H ├───────┼──────────────┼──────────────┼──────────────┼──────────────┼───────────────┼───────────────■──────────────────────────────────────────┤6      ├─╫──╫──╫──╫──╫──╫─┤M├──────\n",
       "      ├───┤       │              │              │              │              │               │               │                                          │       │ ║  ║  ║  ║  ║  ║ └╥┘┌─┐   \n",
       " q_7: ┤ H ├───────┼──────────────┼──────────────┼──────────────┼──────────────┼───────────────┼───────────────┼────────────────■─────────────────────────┤7      ├─╫──╫──╫──╫──╫──╫──╫─┤M├───\n",
       "      ├───┤       │              │              │              │              │               │               │                │                         │       │ ║  ║  ║  ║  ║  ║  ║ └╥┘┌─┐\n",
       " q_8: ┤ H ├───────┼──────────────┼──────────────┼──────────────┼──────────────┼───────────────┼───────────────┼────────────────┼────────────────■────────┤8      ├─╫──╫──╫──╫──╫──╫──╫──╫─┤M├\n",
       "      ├───┤┌──────┴──────┐┌──────┴──────┐┌──────┴──────┐┌──────┴──────┐┌──────┴───────┐┌──────┴───────┐┌──────┴───────┐┌───────┴───────┐┌───────┴───────┐└───────┘ ║  ║  ║  ║  ║  ║  ║  ║ └╥┘\n",
       " q_9: ┤ X ├┤0            ├┤0            ├┤0            ├┤0            ├┤0             ├┤0             ├┤0             ├┤0              ├┤0              ├──────────╫──╫──╫──╫──╫──╫──╫──╫──╫─\n",
       "      └───┘│             ││             ││             ││             ││              ││              ││              ││               ││               │          ║  ║  ║  ║  ║  ║  ║  ║  ║ \n",
       "q_10: ─────┤1            ├┤1            ├┤1            ├┤1            ├┤1             ├┤1             ├┤1             ├┤1              ├┤1              ├──────────╫──╫──╫──╫──╫──╫──╫──╫──╫─\n",
       "           │             ││             ││             ││             ││              ││              ││              ││               ││               │          ║  ║  ║  ║  ║  ║  ║  ║  ║ \n",
       "q_11: ─────┤2 4^1 mod 21 ├┤2 4^2 mod 21 ├┤2 4^4 mod 21 ├┤2 4^8 mod 21 ├┤2 4^16 mod 21 ├┤2 4^32 mod 21 ├┤2 4^64 mod 21 ├┤2 4^128 mod 21 ├┤2 4^256 mod 21 ├──────────╫──╫──╫──╫──╫──╫──╫──╫──╫─\n",
       "           │             ││             ││             ││             ││              ││              ││              ││               ││               │          ║  ║  ║  ║  ║  ║  ║  ║  ║ \n",
       "q_12: ─────┤3            ├┤3            ├┤3            ├┤3            ├┤3             ├┤3             ├┤3             ├┤3              ├┤3              ├──────────╫──╫──╫──╫──╫──╫──╫──╫──╫─\n",
       "           │             ││             ││             ││             ││              ││              ││              ││               ││               │          ║  ║  ║  ║  ║  ║  ║  ║  ║ \n",
       "q_13: ─────┤4            ├┤4            ├┤4            ├┤4            ├┤4             ├┤4             ├┤4             ├┤4              ├┤4              ├──────────╫──╫──╫──╫──╫──╫──╫──╫──╫─\n",
       "           └─────────────┘└─────────────┘└─────────────┘└─────────────┘└──────────────┘└──────────────┘└──────────────┘└───────────────┘└───────────────┘          ║  ║  ║  ║  ║  ║  ║  ║  ║ \n",
       " c: 9/═════════════════════════════════════════════════════════════════════════════════════════════════════════════════════════════════════════════════════════════╩══╩══╩══╩══╩══╩══╩══╩══╩═\n",
       "                                                                                                                                                                   0  1  2  3  4  5  6  7  8 </pre>"
      ],
      "text/plain": [
       "      ┌───┐                                                                                                                                              ┌───────┐┌─┐                        \n",
       " q_0: ┤ H ├───────■──────────────────────────────────────────────────────────────────────────────────────────────────────────────────────────────────────┤0      ├┤M├────────────────────────\n",
       "      ├───┤       │                                                                                                                                      │       │└╥┘┌─┐                     \n",
       " q_1: ┤ H ├───────┼──────────────■───────────────────────────────────────────────────────────────────────────────────────────────────────────────────────┤1      ├─╫─┤M├─────────────────────\n",
       "      ├───┤       │              │                                                                                                                       │       │ ║ └╥┘┌─┐                  \n",
       " q_2: ┤ H ├───────┼──────────────┼──────────────■────────────────────────────────────────────────────────────────────────────────────────────────────────┤2      ├─╫──╫─┤M├──────────────────\n",
       "      ├───┤       │              │              │                                                                                                        │       │ ║  ║ └╥┘┌─┐               \n",
       " q_3: ┤ H ├───────┼──────────────┼──────────────┼──────────────■─────────────────────────────────────────────────────────────────────────────────────────┤3      ├─╫──╫──╫─┤M├───────────────\n",
       "      ├───┤       │              │              │              │                                                                                         │       │ ║  ║  ║ └╥┘┌─┐            \n",
       " q_4: ┤ H ├───────┼──────────────┼──────────────┼──────────────┼──────────────■──────────────────────────────────────────────────────────────────────────┤4 IQFT ├─╫──╫──╫──╫─┤M├────────────\n",
       "      ├───┤       │              │              │              │              │                                                                          │       │ ║  ║  ║  ║ └╥┘┌─┐         \n",
       " q_5: ┤ H ├───────┼──────────────┼──────────────┼──────────────┼──────────────┼───────────────■──────────────────────────────────────────────────────────┤5      ├─╫──╫──╫──╫──╫─┤M├─────────\n",
       "      ├───┤       │              │              │              │              │               │                                                          │       │ ║  ║  ║  ║  ║ └╥┘┌─┐      \n",
       " q_6: ┤ H ├───────┼──────────────┼──────────────┼──────────────┼──────────────┼───────────────┼───────────────■──────────────────────────────────────────┤6      ├─╫──╫──╫──╫──╫──╫─┤M├──────\n",
       "      ├───┤       │              │              │              │              │               │               │                                          │       │ ║  ║  ║  ║  ║  ║ └╥┘┌─┐   \n",
       " q_7: ┤ H ├───────┼──────────────┼──────────────┼──────────────┼──────────────┼───────────────┼───────────────┼────────────────■─────────────────────────┤7      ├─╫──╫──╫──╫──╫──╫──╫─┤M├───\n",
       "      ├───┤       │              │              │              │              │               │               │                │                         │       │ ║  ║  ║  ║  ║  ║  ║ └╥┘┌─┐\n",
       " q_8: ┤ H ├───────┼──────────────┼──────────────┼──────────────┼──────────────┼───────────────┼───────────────┼────────────────┼────────────────■────────┤8      ├─╫──╫──╫──╫──╫──╫──╫──╫─┤M├\n",
       "      ├───┤┌──────┴──────┐┌──────┴──────┐┌──────┴──────┐┌──────┴──────┐┌──────┴───────┐┌──────┴───────┐┌──────┴───────┐┌───────┴───────┐┌───────┴───────┐└───────┘ ║  ║  ║  ║  ║  ║  ║  ║ └╥┘\n",
       " q_9: ┤ X ├┤0            ├┤0            ├┤0            ├┤0            ├┤0             ├┤0             ├┤0             ├┤0              ├┤0              ├──────────╫──╫──╫──╫──╫──╫──╫──╫──╫─\n",
       "      └───┘│             ││             ││             ││             ││              ││              ││              ││               ││               │          ║  ║  ║  ║  ║  ║  ║  ║  ║ \n",
       "q_10: ─────┤1            ├┤1            ├┤1            ├┤1            ├┤1             ├┤1             ├┤1             ├┤1              ├┤1              ├──────────╫──╫──╫──╫──╫──╫──╫──╫──╫─\n",
       "           │             ││             ││             ││             ││              ││              ││              ││               ││               │          ║  ║  ║  ║  ║  ║  ║  ║  ║ \n",
       "q_11: ─────┤2 4^1 mod 21 ├┤2 4^2 mod 21 ├┤2 4^4 mod 21 ├┤2 4^8 mod 21 ├┤2 4^16 mod 21 ├┤2 4^32 mod 21 ├┤2 4^64 mod 21 ├┤2 4^128 mod 21 ├┤2 4^256 mod 21 ├──────────╫──╫──╫──╫──╫──╫──╫──╫──╫─\n",
       "           │             ││             ││             ││             ││              ││              ││              ││               ││               │          ║  ║  ║  ║  ║  ║  ║  ║  ║ \n",
       "q_12: ─────┤3            ├┤3            ├┤3            ├┤3            ├┤3             ├┤3             ├┤3             ├┤3              ├┤3              ├──────────╫──╫──╫──╫──╫──╫──╫──╫──╫─\n",
       "           │             ││             ││             ││             ││              ││              ││              ││               ││               │          ║  ║  ║  ║  ║  ║  ║  ║  ║ \n",
       "q_13: ─────┤4            ├┤4            ├┤4            ├┤4            ├┤4             ├┤4             ├┤4             ├┤4              ├┤4              ├──────────╫──╫──╫──╫──╫──╫──╫──╫──╫─\n",
       "           └─────────────┘└─────────────┘└─────────────┘└─────────────┘└──────────────┘└──────────────┘└──────────────┘└───────────────┘└───────────────┘          ║  ║  ║  ║  ║  ║  ║  ║  ║ \n",
       " c: 9/═════════════════════════════════════════════════════════════════════════════════════════════════════════════════════════════════════════════════════════════╩══╩══╩══╩══╩══╩══╩══╩══╩═\n",
       "                                                                                                                                                                   0  1  2  3  4  5  6  7  8 "
      ]
     },
     "execution_count": 7,
     "metadata": {},
     "output_type": "execute_result"
    }
   ],
   "source": [
    "Shor = QuantumCircuit(q + n, q)\n",
    "\n",
    "for q_i in range(q):\n",
    "    Shor.h(q_i)\n",
    "\n",
    "Shor.x(q)\n",
    "\n",
    "for q_i in range(q):\n",
    "    Shor.append(Uf(a, 2**q_i), [q_i] + work_reg)\n",
    "    \n",
    "Shor.append(QFT(q, do_swaps = True, inverse = True), range(q))\n",
    "\n",
    "Shor.measure(range(q), range(q))\n",
    "Shor.draw(fold = -1) "
   ]
  },
  {
   "cell_type": "code",
   "execution_count": 8,
   "id": "1ecea88a",
   "metadata": {},
   "outputs": [],
   "source": [
    "aer_sim = Aer.get_backend('aer_simulator')\n",
    "counts = aer_sim.run(transpile(Shor, aer_sim)).result().get_counts()"
   ]
  },
  {
   "cell_type": "code",
   "execution_count": 9,
   "id": "900abb89",
   "metadata": {},
   "outputs": [
    {
     "data": {
      "image/png": "[encoded data removed]",
      "text/plain": [
       "<Figure size 1500x500 with 1 Axes>"
      ]
     },
     "execution_count": 9,
     "metadata": {},
     "output_type": "execute_result"
    }
   ],
   "source": [
    "plot_histogram(counts, figsize = (15, 5))"
   ]
  },
  {
   "cell_type": "code",
   "execution_count": 10,
   "id": "b02c65b6",
   "metadata": {},
   "outputs": [
    {
     "data": {
      "text/plain": [
       "356"
      ]
     },
     "execution_count": 10,
     "metadata": {},
     "output_type": "execute_result"
    }
   ],
   "source": [
    "counts.pop('0'*q)"
   ]
  },
  {
   "cell_type": "code",
   "execution_count": 11,
   "id": "4205a485",
   "metadata": {},
   "outputs": [],
   "source": [
    "outputs = list(dict(sorted(counts.items(), key=lambda item: item[1], reverse = True)).keys())[:15]\n",
    "l = len(outputs)"
   ]
  },
  {
   "cell_type": "code",
   "execution_count": 12,
   "id": "f1015139",
   "metadata": {
    "scrolled": false
   },
   "outputs": [
    {
     "name": "stdout",
     "output_type": "stream",
     "text": [
      "Counter({3: 14, 20: 1})\n"
     ]
    },
    {
     "data": {
      "text/html": [
       "<div>\n",
       "<style scoped>\n",
       "    .dataframe tbody tr th:only-of-type {\n",
       "        vertical-align: middle;\n",
       "    }\n",
       "\n",
       "    .dataframe tbody tr th {\n",
       "        vertical-align: top;\n",
       "    }\n",
       "\n",
       "    .dataframe thead th {\n",
       "        text-align: right;\n",
       "    }\n",
       "</style>\n",
       "<table border=\"1\" class=\"dataframe\">\n",
       "  <thead>\n",
       "    <tr style=\"text-align: right;\">\n",
       "      <th></th>\n",
       "      <th>Register output</th>\n",
       "      <th>Phase_frac</th>\n",
       "      <th>Phase</th>\n",
       "      <th>Phase_frac_simple</th>\n",
       "    </tr>\n",
       "  </thead>\n",
       "  <tbody>\n",
       "    <tr>\n",
       "      <th>0</th>\n",
       "      <td>101010101</td>\n",
       "      <td>341/512</td>\n",
       "      <td>0.666016</td>\n",
       "      <td>2/3</td>\n",
       "    </tr>\n",
       "    <tr>\n",
       "      <th>1</th>\n",
       "      <td>010101011</td>\n",
       "      <td>171/512</td>\n",
       "      <td>0.333984</td>\n",
       "      <td>1/3</td>\n",
       "    </tr>\n",
       "    <tr>\n",
       "      <th>2</th>\n",
       "      <td>010101010</td>\n",
       "      <td>170/512</td>\n",
       "      <td>0.332031</td>\n",
       "      <td>1/3</td>\n",
       "    </tr>\n",
       "    <tr>\n",
       "      <th>3</th>\n",
       "      <td>101010110</td>\n",
       "      <td>342/512</td>\n",
       "      <td>0.667969</td>\n",
       "      <td>2/3</td>\n",
       "    </tr>\n",
       "    <tr>\n",
       "      <th>4</th>\n",
       "      <td>101010100</td>\n",
       "      <td>340/512</td>\n",
       "      <td>0.664062</td>\n",
       "      <td>2/3</td>\n",
       "    </tr>\n",
       "    <tr>\n",
       "      <th>5</th>\n",
       "      <td>010101001</td>\n",
       "      <td>169/512</td>\n",
       "      <td>0.330078</td>\n",
       "      <td>1/3</td>\n",
       "    </tr>\n",
       "    <tr>\n",
       "      <th>6</th>\n",
       "      <td>010101100</td>\n",
       "      <td>172/512</td>\n",
       "      <td>0.335938</td>\n",
       "      <td>1/3</td>\n",
       "    </tr>\n",
       "    <tr>\n",
       "      <th>7</th>\n",
       "      <td>101011001</td>\n",
       "      <td>345/512</td>\n",
       "      <td>0.673828</td>\n",
       "      <td>2/3</td>\n",
       "    </tr>\n",
       "    <tr>\n",
       "      <th>8</th>\n",
       "      <td>101010111</td>\n",
       "      <td>343/512</td>\n",
       "      <td>0.669922</td>\n",
       "      <td>2/3</td>\n",
       "    </tr>\n",
       "    <tr>\n",
       "      <th>9</th>\n",
       "      <td>101010011</td>\n",
       "      <td>339/512</td>\n",
       "      <td>0.662109</td>\n",
       "      <td>2/3</td>\n",
       "    </tr>\n",
       "    <tr>\n",
       "      <th>10</th>\n",
       "      <td>101010001</td>\n",
       "      <td>337/512</td>\n",
       "      <td>0.658203</td>\n",
       "      <td>13/20</td>\n",
       "    </tr>\n",
       "    <tr>\n",
       "      <th>11</th>\n",
       "      <td>010101101</td>\n",
       "      <td>173/512</td>\n",
       "      <td>0.337891</td>\n",
       "      <td>1/3</td>\n",
       "    </tr>\n",
       "    <tr>\n",
       "      <th>12</th>\n",
       "      <td>010101000</td>\n",
       "      <td>168/512</td>\n",
       "      <td>0.328125</td>\n",
       "      <td>1/3</td>\n",
       "    </tr>\n",
       "    <tr>\n",
       "      <th>13</th>\n",
       "      <td>010101110</td>\n",
       "      <td>174/512</td>\n",
       "      <td>0.339844</td>\n",
       "      <td>1/3</td>\n",
       "    </tr>\n",
       "    <tr>\n",
       "      <th>14</th>\n",
       "      <td>010100111</td>\n",
       "      <td>167/512</td>\n",
       "      <td>0.326172</td>\n",
       "      <td>1/3</td>\n",
       "    </tr>\n",
       "  </tbody>\n",
       "</table>\n",
       "</div>"
      ],
      "text/plain": [
       "   Register output Phase_frac     Phase Phase_frac_simple\n",
       "0        101010101    341/512  0.666016               2/3\n",
       "1        010101011    171/512  0.333984               1/3\n",
       "2        010101010    170/512  0.332031               1/3\n",
       "3        101010110    342/512  0.667969               2/3\n",
       "4        101010100    340/512  0.664062               2/3\n",
       "5        010101001    169/512  0.330078               1/3\n",
       "6        010101100    172/512  0.335938               1/3\n",
       "7        101011001    345/512  0.673828               2/3\n",
       "8        101010111    343/512  0.669922               2/3\n",
       "9        101010011    339/512  0.662109               2/3\n",
       "10       101010001    337/512  0.658203             13/20\n",
       "11       010101101    173/512  0.337891               1/3\n",
       "12       010101000    168/512  0.328125               1/3\n",
       "13       010101110    174/512  0.339844               1/3\n",
       "14       010100111    167/512  0.326172               1/3"
      ]
     },
     "execution_count": 12,
     "metadata": {},
     "output_type": "execute_result"
    }
   ],
   "source": [
    "for j in range(1, N):\n",
    "    phases = [int(numm, 2)/Q for numm in outputs]\n",
    "    fracs = [Fraction(phases[i]).limit_denominator(N//j) for i in range(l)]\n",
    "    candidates = [frac.denominator for frac in fracs]\n",
    "    r = Counter(candidates).most_common(1)[0][0]\n",
    "    if a**r%N == 1:\n",
    "        break\n",
    "    if a**(r*2)%N == 1:\n",
    "        r *= 2\n",
    "        break\n",
    "print(Counter(candidates))        \n",
    "rows = [(outputs[i], f'{int(outputs[i], 2)}/{Q}', phases[i], fracs[i]) for i in range(l)]\n",
    "\n",
    "df = pd.DataFrame(rows, columns = ['Register output', 'Phase_frac', 'Phase','Phase_frac_simple'])\n",
    "df"
   ]
  },
  {
   "cell_type": "code",
   "execution_count": 13,
   "id": "8cd61cf5",
   "metadata": {},
   "outputs": [
    {
     "name": "stdout",
     "output_type": "stream",
     "text": [
      "ord(4) =  3\n"
     ]
    }
   ],
   "source": [
    "print(f'ord({a}) = ', r)"
   ]
  },
  {
   "cell_type": "code",
   "execution_count": 14,
   "id": "f2879cb6",
   "metadata": {},
   "outputs": [
    {
     "name": "stdout",
     "output_type": "stream",
     "text": [
      "Answer: p =  3 q =  7\n"
     ]
    }
   ],
   "source": [
    "p = math.gcd(r, N)\n",
    "if p > 1:\n",
    "    print('Answer: p = ', p, 'q = ', N//p)\n",
    "else:\n",
    "    if r%2 == 0:\n",
    "        p = math.gcd(a**(r//2) - 1, N)\n",
    "        q = math.gcd(a**(r//2) + 1, N)\n",
    "        print(p, q)\n",
    "        if p > 1 or q > 1:\n",
    "            \n",
    "            print(f'Answer: p, q = gcd({a}^({r}/2) ± 1, {N}) = {max(p, q), N//max(p, q)}')\n",
    "        else:\n",
    "            print('try another a')\n",
    "    else:\n",
    "        print('try another a')"
   ]
  },
  {
   "cell_type": "markdown",
   "id": "28fc176a",
   "metadata": {},
   "source": [
    "Складність:  $n+q=\\left\\lceil3\\cdot\\log_221\\right\\rceil=14$ кубітів.\n",
    "До $72\\left\\lceil\\log_221\\right\\rceil^3=9000$ вентилів, залежно від значення $a$."
   ]
  },
  {
   "cell_type": "markdown",
   "id": "b94abd13",
   "metadata": {},
   "source": [
    "### compiled Shor for a = 4"
   ]
  },
  {
   "cell_type": "code",
   "execution_count": 16,
   "id": "dda1c175",
   "metadata": {},
   "outputs": [],
   "source": [
    "a = 4"
   ]
  },
  {
   "cell_type": "code",
   "execution_count": 17,
   "id": "4bce91fb",
   "metadata": {},
   "outputs": [
    {
     "name": "stdout",
     "output_type": "stream",
     "text": [
      "4^0 mod 21 =  1  = 10000\n",
      "4^1 mod 21 =  4  = 00100\n",
      "4^2 mod 21 =  16  = 00001\n",
      "4^4 mod 21 =  4  = 00100\n",
      "4^8 mod 21 =  16  = 00001\n",
      "4^16 mod 21 =  4  = 00100\n",
      "4^32 mod 21 =  16  = 00001\n",
      "4^64 mod 21 =  4  = 00100\n",
      "4^128 mod 21 =  16  = 00001\n",
      "4^256 mod 21 =  4  = 00100\n"
     ]
    }
   ],
   "source": [
    "for i in range(2**q):\n",
    "    if i in [0] + [2**j for j in range(N)]:\n",
    "        print(f'{a}^{i} mod {N} = ', a**i%N, f' = {(\"0\"*(n - len(bin(a**i%N)[2:])) + bin(a**i%N)[2:])[::-1]}')"
   ]
  },
  {
   "cell_type": "markdown",
   "id": "0f858af1",
   "metadata": {},
   "source": [
    "$$|1>=00$$\n",
    "$$|4>=10$$\n",
    "$$|16>=01$$"
   ]
  },
  {
   "cell_type": "code",
   "execution_count": 18,
   "id": "cc35cf3d",
   "metadata": {},
   "outputs": [],
   "source": [
    "n, q = 2, 3\n",
    "Q = 2**q"
   ]
  },
  {
   "cell_type": "code",
   "execution_count": 19,
   "id": "589450d8",
   "metadata": {},
   "outputs": [
    {
     "data": {
      "text/html": [
       "<pre style=\"word-wrap: normal;white-space: pre;background: #fff0;line-height: 1.1;font-family: &quot;Courier New&quot;,Courier,monospace\">     ┌───┐                               ┌───────┐┌─┐      \n",
       "q_0: ┤ H ├────────────────────■────────■─┤0      ├┤M├──────\n",
       "     ├───┤                    │        │ │       │└╥┘┌─┐   \n",
       "q_1: ┤ H ├───────■───■────────┼────────┼─┤1 IQFT ├─╫─┤M├───\n",
       "     ├───┤       │   │        │        │ │       │ ║ └╥┘┌─┐\n",
       "q_2: ┤ H ├──■────┼───┼────────┼────────┼─┤2      ├─╫──╫─┤M├\n",
       "     └───┘  │    │   │      ┌─┴─┐      │ └───────┘ ║  ║ └╥┘\n",
       "q_3: ───────┼────┼───X──────┤ X ├──────X───────────╫──╫──╫─\n",
       "          ┌─┴─┐┌─┴─┐ │ ┌───┐└─┬─┘┌───┐ │           ║  ║  ║ \n",
       "q_4: ─────┤ X ├┤ X ├─X─┤ X ├──■──┤ X ├─X───────────╫──╫──╫─\n",
       "          └───┘└───┘   └───┘     └───┘             ║  ║  ║ \n",
       "c: 3/══════════════════════════════════════════════╩══╩══╩═\n",
       "                                                   0  1  2 </pre>"
      ],
      "text/plain": [
       "     ┌───┐                               ┌───────┐┌─┐      \n",
       "q_0: ┤ H ├────────────────────■────────■─┤0      ├┤M├──────\n",
       "     ├───┤                    │        │ │       │└╥┘┌─┐   \n",
       "q_1: ┤ H ├───────■───■────────┼────────┼─┤1 IQFT ├─╫─┤M├───\n",
       "     ├───┤       │   │        │        │ │       │ ║ └╥┘┌─┐\n",
       "q_2: ┤ H ├──■────┼───┼────────┼────────┼─┤2      ├─╫──╫─┤M├\n",
       "     └───┘  │    │   │      ┌─┴─┐      │ └───────┘ ║  ║ └╥┘\n",
       "q_3: ───────┼────┼───X──────┤ X ├──────X───────────╫──╫──╫─\n",
       "          ┌─┴─┐┌─┴─┐ │ ┌───┐└─┬─┘┌───┐ │           ║  ║  ║ \n",
       "q_4: ─────┤ X ├┤ X ├─X─┤ X ├──■──┤ X ├─X───────────╫──╫──╫─\n",
       "          └───┘└───┘   └───┘     └───┘             ║  ║  ║ \n",
       "c: 3/══════════════════════════════════════════════╩══╩══╩═\n",
       "                                                   0  1  2 "
      ]
     },
     "execution_count": 19,
     "metadata": {},
     "output_type": "execute_result"
    }
   ],
   "source": [
    "Shor = QuantumCircuit(q + n, q)\n",
    "\n",
    "for q_i in range(q):\n",
    "    Shor.h(q_i)\n",
    "\n",
    "Shor.cx(2, 4) #U1\n",
    "\n",
    "Shor.cx(1, 4)  #U2\n",
    "Shor.cswap(1, 3, 4)\n",
    "    \n",
    "Shor.x(4)  #U4\n",
    "Shor.ccx(0, 4, 3)\n",
    "Shor.x(4)\n",
    "Shor.cswap(0, 3, 4)\n",
    "\n",
    "Shor.append(QFT(q, do_swaps = True, inverse = True), range(q))\n",
    "\n",
    "Shor.measure(range(q), range(q))\n",
    "Shor.draw() "
   ]
  },
  {
   "cell_type": "code",
   "execution_count": 20,
   "id": "13745e93",
   "metadata": {},
   "outputs": [
    {
     "data": {
      "text/html": [
       "<pre style=\"word-wrap: normal;white-space: pre;background: #fff0;line-height: 1.1;font-family: &quot;Courier New&quot;,Courier,monospace\">     ┌───┐                               ┌───────┐┌─┐      \n",
       "q_0: ┤ H ├──■────────────────────────────┤0      ├┤M├──────\n",
       "     ├───┤  │                            │       │└╥┘┌─┐   \n",
       "q_1: ┤ H ├──┼────■───■───────────────────┤1 IQFT ├─╫─┤M├───\n",
       "     ├───┤  │    │   │                   │       │ ║ └╥┘┌─┐\n",
       "q_2: ┤ H ├──┼────┼───┼────────■────────■─┤2      ├─╫──╫─┤M├\n",
       "     └───┘┌─┴─┐┌─┴─┐ │ ┌───┐┌─┴─┐┌───┐ │ └───────┘ ║  ║ └╥┘\n",
       "q_3: ─────┤ X ├┤ X ├─X─┤ X ├┤ X ├┤ X ├─X───────────╫──╫──╫─\n",
       "          └───┘└───┘ │ └───┘└─┬─┘└───┘ │           ║  ║  ║ \n",
       "q_4: ────────────────X────────■────────X───────────╫──╫──╫─\n",
       "                                                   ║  ║  ║ \n",
       "c: 3/══════════════════════════════════════════════╩══╩══╩═\n",
       "                                                   0  1  2 </pre>"
      ],
      "text/plain": [
       "     ┌───┐                               ┌───────┐┌─┐      \n",
       "q_0: ┤ H ├──■────────────────────────────┤0      ├┤M├──────\n",
       "     ├───┤  │                            │       │└╥┘┌─┐   \n",
       "q_1: ┤ H ├──┼────■───■───────────────────┤1 IQFT ├─╫─┤M├───\n",
       "     ├───┤  │    │   │                   │       │ ║ └╥┘┌─┐\n",
       "q_2: ┤ H ├──┼────┼───┼────────■────────■─┤2      ├─╫──╫─┤M├\n",
       "     └───┘┌─┴─┐┌─┴─┐ │ ┌───┐┌─┴─┐┌───┐ │ └───────┘ ║  ║ └╥┘\n",
       "q_3: ─────┤ X ├┤ X ├─X─┤ X ├┤ X ├┤ X ├─X───────────╫──╫──╫─\n",
       "          └───┘└───┘ │ └───┘└─┬─┘└───┘ │           ║  ║  ║ \n",
       "q_4: ────────────────X────────■────────X───────────╫──╫──╫─\n",
       "                                                   ║  ║  ║ \n",
       "c: 3/══════════════════════════════════════════════╩══╩══╩═\n",
       "                                                   0  1  2 "
      ]
     },
     "execution_count": 20,
     "metadata": {},
     "output_type": "execute_result"
    }
   ],
   "source": [
    "Shor = QuantumCircuit(q + n, q)\n",
    "\n",
    "for q_i in range(q):\n",
    "    Shor.h(q_i)\n",
    "\n",
    "Shor.cx(0, 3) #U1\n",
    "\n",
    "Shor.cx(1, 3)  #U2\n",
    "Shor.cswap(1, 3, 4)\n",
    "    \n",
    "Shor.x(3)  #U4\n",
    "Shor.ccx(2, 4, 3)\n",
    "Shor.x(3)\n",
    "Shor.cswap(2, 3, 4)\n",
    "\n",
    "Shor.append(QFT(q, do_swaps = True, inverse = True), range(q))\n",
    "\n",
    "Shor.measure(range(q), range(q))\n",
    "Shor.draw() "
   ]
  },
  {
   "cell_type": "code",
   "execution_count": 21,
   "id": "65ff306b",
   "metadata": {},
   "outputs": [],
   "source": [
    "aer_sim = Aer.get_backend('aer_simulator')\n",
    "counts = aer_sim.run(transpile(Shor, aer_sim)).result().get_counts()"
   ]
  },
  {
   "cell_type": "code",
   "execution_count": 22,
   "id": "adfd5c18",
   "metadata": {},
   "outputs": [
    {
     "data": {
      "image/png": "[encoded data removed]",
      "text/plain": [
       "<Figure size 700x500 with 1 Axes>"
      ]
     },
     "execution_count": 22,
     "metadata": {},
     "output_type": "execute_result"
    }
   ],
   "source": [
    "plot_histogram(counts, figsize = (7, 5))"
   ]
  },
  {
   "cell_type": "code",
   "execution_count": 23,
   "id": "c6b721e1",
   "metadata": {},
   "outputs": [
    {
     "data": {
      "text/plain": [
       "360"
      ]
     },
     "execution_count": 23,
     "metadata": {},
     "output_type": "execute_result"
    }
   ],
   "source": [
    "counts.pop('0'*q)"
   ]
  },
  {
   "cell_type": "code",
   "execution_count": 24,
   "id": "6455d0cb",
   "metadata": {},
   "outputs": [],
   "source": [
    "outputs = list(dict(sorted(counts.items(), key=lambda item: item[1], reverse = True)).keys())#[:2]\n",
    "l = len(outputs)"
   ]
  },
  {
   "cell_type": "code",
   "execution_count": 25,
   "id": "257f0ca7",
   "metadata": {},
   "outputs": [
    {
     "data": {
      "text/html": [
       "<div>\n",
       "<style scoped>\n",
       "    .dataframe tbody tr th:only-of-type {\n",
       "        vertical-align: middle;\n",
       "    }\n",
       "\n",
       "    .dataframe tbody tr th {\n",
       "        vertical-align: top;\n",
       "    }\n",
       "\n",
       "    .dataframe thead th {\n",
       "        text-align: right;\n",
       "    }\n",
       "</style>\n",
       "<table border=\"1\" class=\"dataframe\">\n",
       "  <thead>\n",
       "    <tr style=\"text-align: right;\">\n",
       "      <th></th>\n",
       "      <th>Register output</th>\n",
       "      <th>Phase_frac</th>\n",
       "      <th>Phase</th>\n",
       "      <th>Phase_frac_simple</th>\n",
       "    </tr>\n",
       "  </thead>\n",
       "  <tbody>\n",
       "    <tr>\n",
       "      <th>0</th>\n",
       "      <td>110</td>\n",
       "      <td>6/8</td>\n",
       "      <td>0.750</td>\n",
       "      <td>2/3</td>\n",
       "    </tr>\n",
       "    <tr>\n",
       "      <th>1</th>\n",
       "      <td>010</td>\n",
       "      <td>2/8</td>\n",
       "      <td>0.250</td>\n",
       "      <td>1/3</td>\n",
       "    </tr>\n",
       "    <tr>\n",
       "      <th>2</th>\n",
       "      <td>011</td>\n",
       "      <td>3/8</td>\n",
       "      <td>0.375</td>\n",
       "      <td>1/3</td>\n",
       "    </tr>\n",
       "    <tr>\n",
       "      <th>3</th>\n",
       "      <td>101</td>\n",
       "      <td>5/8</td>\n",
       "      <td>0.625</td>\n",
       "      <td>2/3</td>\n",
       "    </tr>\n",
       "    <tr>\n",
       "      <th>4</th>\n",
       "      <td>111</td>\n",
       "      <td>7/8</td>\n",
       "      <td>0.875</td>\n",
       "      <td>1</td>\n",
       "    </tr>\n",
       "    <tr>\n",
       "      <th>5</th>\n",
       "      <td>001</td>\n",
       "      <td>1/8</td>\n",
       "      <td>0.125</td>\n",
       "      <td>0</td>\n",
       "    </tr>\n",
       "    <tr>\n",
       "      <th>6</th>\n",
       "      <td>100</td>\n",
       "      <td>4/8</td>\n",
       "      <td>0.500</td>\n",
       "      <td>1/2</td>\n",
       "    </tr>\n",
       "  </tbody>\n",
       "</table>\n",
       "</div>"
      ],
      "text/plain": [
       "  Register output Phase_frac  Phase Phase_frac_simple\n",
       "0             110        6/8  0.750               2/3\n",
       "1             010        2/8  0.250               1/3\n",
       "2             011        3/8  0.375               1/3\n",
       "3             101        5/8  0.625               2/3\n",
       "4             111        7/8  0.875                 1\n",
       "5             001        1/8  0.125                 0\n",
       "6             100        4/8  0.500               1/2"
      ]
     },
     "execution_count": 25,
     "metadata": {},
     "output_type": "execute_result"
    }
   ],
   "source": [
    "for j in range(1, N):\n",
    "    phases = [int(numm, 2)/Q for numm in outputs]\n",
    "    fracs = [Fraction(phases[i]).limit_denominator(N//j) for i in range(l)]\n",
    "    candidates = [frac.denominator for frac in fracs]\n",
    "    r = Counter(candidates).most_common(1)[0][0]\n",
    "    if a**r%N == 1:\n",
    "        break\n",
    "    \n",
    "rows = [(outputs[i], f'{int(outputs[i], 2)}/{Q}', phases[i], fracs[i]) for i in range(l)]\n",
    "\n",
    "df = pd.DataFrame(rows, columns = ['Register output', 'Phase_frac', 'Phase','Phase_frac_simple'])\n",
    "df"
   ]
  },
  {
   "cell_type": "code",
   "execution_count": 26,
   "id": "c2dbcb70",
   "metadata": {},
   "outputs": [
    {
     "name": "stdout",
     "output_type": "stream",
     "text": [
      "ord(4) =  3\n"
     ]
    }
   ],
   "source": [
    "print(f'ord({a}) = ', r)"
   ]
  },
  {
   "cell_type": "code",
   "execution_count": 27,
   "id": "e1d08f1e",
   "metadata": {},
   "outputs": [
    {
     "name": "stdout",
     "output_type": "stream",
     "text": [
      "Answer: p =  3 q =  7\n"
     ]
    }
   ],
   "source": [
    "p = math.gcd(r, N)\n",
    "if p > 1:\n",
    "    print('Answer: p = ', p, 'q = ', N//p)\n",
    "else:\n",
    "    if r%2 == 0:\n",
    "        p = math.gcd(a**(r//2) - 1, N)\n",
    "        q = math.gcd(a**(r//2) + 1, N)\n",
    "        if p > 1 or q > 1:\n",
    "            print(f'Answer: p, q = gcd({a}^({r}/2) ± 1, {N}) = {max(p, q), N//max(p, q)}')\n",
    "        else:\n",
    "            print('try another a')\n",
    "    else:\n",
    "        print('try another a')"
   ]
  },
  {
   "cell_type": "markdown",
   "id": "82e26dd9",
   "metadata": {},
   "source": [
    "Складність:  $5$ кубітів, $68$ вентилів проти $14$ кубітів та $\\approx 3200$ вентилів в попередній схемі."
   ]
  },
  {
   "cell_type": "markdown",
   "id": "10adaab2",
   "metadata": {},
   "source": [
    "### compiled Shor for a = 8, 13 (ord(a) = 2)"
   ]
  },
  {
   "cell_type": "code",
   "execution_count": 28,
   "id": "95066acc",
   "metadata": {},
   "outputs": [],
   "source": [
    "Q, a = 2, 13"
   ]
  },
  {
   "cell_type": "code",
   "execution_count": 29,
   "id": "862e1131",
   "metadata": {},
   "outputs": [
    {
     "data": {
      "text/html": [
       "<pre style=\"word-wrap: normal;white-space: pre;background: #fff0;line-height: 1.1;font-family: &quot;Courier New&quot;,Courier,monospace\">     ┌───┐     ┌───┐┌─┐\n",
       "q_0: ┤ H ├──■──┤ H ├┤M├\n",
       "     └───┘┌─┴─┐└───┘└╥┘\n",
       "q_1: ─────┤ X ├──────╫─\n",
       "          └───┘      ║ \n",
       "c: 1/════════════════╩═\n",
       "                     0 </pre>"
      ],
      "text/plain": [
       "     ┌───┐     ┌───┐┌─┐\n",
       "q_0: ┤ H ├──■──┤ H ├┤M├\n",
       "     └───┘┌─┴─┐└───┘└╥┘\n",
       "q_1: ─────┤ X ├──────╫─\n",
       "          └───┘      ║ \n",
       "c: 1/════════════════╩═\n",
       "                     0 "
      ]
     },
     "execution_count": 29,
     "metadata": {},
     "output_type": "execute_result"
    }
   ],
   "source": [
    "Shor = QuantumCircuit(2, 1)\n",
    "\n",
    "Shor.h(0)\n",
    "Shor.cx(0, 1)\n",
    "Shor.h(0)\n",
    "Shor.measure(0, 0)\n",
    "\n",
    "Shor.draw() "
   ]
  },
  {
   "cell_type": "code",
   "execution_count": 30,
   "id": "c6766b24",
   "metadata": {},
   "outputs": [],
   "source": [
    "aer_sim = Aer.get_backend('aer_simulator')\n",
    "counts = aer_sim.run(transpile(Shor, aer_sim)).result().get_counts()"
   ]
  },
  {
   "cell_type": "code",
   "execution_count": 31,
   "id": "57dcb670",
   "metadata": {},
   "outputs": [
    {
     "data": {
      "image/png": "[encoded data removed]",
      "text/plain": [
       "<Figure size 700x500 with 1 Axes>"
      ]
     },
     "execution_count": 31,
     "metadata": {},
     "output_type": "execute_result"
    }
   ],
   "source": [
    "plot_histogram(counts, figsize = (7, 5))"
   ]
  },
  {
   "cell_type": "code",
   "execution_count": 32,
   "id": "32a72108",
   "metadata": {},
   "outputs": [
    {
     "data": {
      "text/plain": [
       "477"
      ]
     },
     "execution_count": 32,
     "metadata": {},
     "output_type": "execute_result"
    }
   ],
   "source": [
    "counts.pop('0')"
   ]
  },
  {
   "cell_type": "code",
   "execution_count": 33,
   "id": "0dc5590c",
   "metadata": {},
   "outputs": [],
   "source": [
    "outputs = list(dict(sorted(counts.items(), key=lambda item: item[1], reverse = True)).keys())\n",
    "l = len(outputs)"
   ]
  },
  {
   "cell_type": "code",
   "execution_count": 34,
   "id": "9c5415bf",
   "metadata": {},
   "outputs": [
    {
     "name": "stdout",
     "output_type": "stream",
     "text": [
      "Counter({2: 1})\n"
     ]
    },
    {
     "data": {
      "text/html": [
       "<div>\n",
       "<style scoped>\n",
       "    .dataframe tbody tr th:only-of-type {\n",
       "        vertical-align: middle;\n",
       "    }\n",
       "\n",
       "    .dataframe tbody tr th {\n",
       "        vertical-align: top;\n",
       "    }\n",
       "\n",
       "    .dataframe thead th {\n",
       "        text-align: right;\n",
       "    }\n",
       "</style>\n",
       "<table border=\"1\" class=\"dataframe\">\n",
       "  <thead>\n",
       "    <tr style=\"text-align: right;\">\n",
       "      <th></th>\n",
       "      <th>Register output</th>\n",
       "      <th>Phase_frac</th>\n",
       "      <th>Phase</th>\n",
       "      <th>Phase_frac_simple</th>\n",
       "    </tr>\n",
       "  </thead>\n",
       "  <tbody>\n",
       "    <tr>\n",
       "      <th>0</th>\n",
       "      <td>1</td>\n",
       "      <td>1/2</td>\n",
       "      <td>0.5</td>\n",
       "      <td>1/2</td>\n",
       "    </tr>\n",
       "  </tbody>\n",
       "</table>\n",
       "</div>"
      ],
      "text/plain": [
       "  Register output Phase_frac  Phase Phase_frac_simple\n",
       "0               1        1/2    0.5               1/2"
      ]
     },
     "execution_count": 34,
     "metadata": {},
     "output_type": "execute_result"
    }
   ],
   "source": [
    "for j in range(1, N):\n",
    "    phases = [int(numm, 2)/Q for numm in outputs]\n",
    "    fracs = [Fraction(phases[i]).limit_denominator(N//j) for i in range(l)]\n",
    "    candidates = [frac.denominator for frac in fracs]\n",
    "    r = Counter(candidates).most_common(1)[0][0]\n",
    "    if a**r%N == 1:\n",
    "        break\n",
    "    if a**(r*2)%N == 1:\n",
    "        r *= 2\n",
    "        break\n",
    "print(Counter(candidates))        \n",
    "rows = [(outputs[i], f'{int(outputs[i], 2)}/{Q}', phases[i], fracs[i]) for i in range(l)]\n",
    "\n",
    "df = pd.DataFrame(rows, columns = ['Register output', 'Phase_frac', 'Phase','Phase_frac_simple'])\n",
    "df"
   ]
  },
  {
   "cell_type": "markdown",
   "id": "c05bf070",
   "metadata": {},
   "source": [
    "### Допоміжні обчислення"
   ]
  },
  {
   "cell_type": "code",
   "execution_count": 35,
   "id": "222fff5a",
   "metadata": {},
   "outputs": [
    {
     "data": {
      "text/plain": [
       "(1, 8, 13, 20)"
      ]
     },
     "execution_count": 35,
     "metadata": {},
     "output_type": "execute_result"
    }
   ],
   "source": [
    "p, q = 3, 7\n",
    "\n",
    "p_q = pow(p, -1, q)\n",
    "q_p = pow(q, -1, p)\n",
    "\n",
    "(p*p_q + q*q_p)%N, (p*p_q - q*q_p)%N, (- p*p_q + q*q_p)%N, (- p*p_q - q*q_p)%N"
   ]
  },
  {
   "cell_type": "code",
   "execution_count": 37,
   "id": "e8ecca5d",
   "metadata": {},
   "outputs": [
    {
     "data": {
      "text/html": [
       "<pre style=\"word-wrap: normal;white-space: pre;background: #fff0;line-height: 1.1;font-family: &quot;Courier New&quot;,Courier,monospace\">           \n",
       "q_0: ────X─\n",
       "         │ \n",
       "q_1: ────┼─\n",
       "         │ \n",
       "q_2: ─X──X─\n",
       "      │    \n",
       "q_3: ─┼────\n",
       "      │    \n",
       "q_4: ─X────\n",
       "           </pre>"
      ],
      "text/plain": [
       "           \n",
       "q_0: ────X─\n",
       "         │ \n",
       "q_1: ────┼─\n",
       "         │ \n",
       "q_2: ─X──X─\n",
       "      │    \n",
       "q_3: ─┼────\n",
       "      │    \n",
       "q_4: ─X────\n",
       "           "
      ]
     },
     "execution_count": 37,
     "metadata": {},
     "output_type": "execute_result"
    }
   ],
   "source": [
    "U = QuantumCircuit(int(np.ceil(np.log2(N))))   #a = 4\n",
    "\n",
    "U.swap(2, 4)\n",
    "U.swap(0, 2)\n",
    "\n",
    "U.draw()"
   ]
  },
  {
   "cell_type": "code",
   "execution_count": 38,
   "id": "70ed9793",
   "metadata": {},
   "outputs": [
    {
     "data": {
      "text/html": [
       "<pre style=\"word-wrap: normal;white-space: pre;background: #fff0;line-height: 1.1;font-family: &quot;Courier New&quot;,Courier,monospace\">     ┌───┐      \n",
       "q_0: ┤ X ├────X─\n",
       "     └───┘    │ \n",
       "q_1: ─────────┼─\n",
       "     ┌───┐    │ \n",
       "q_2: ┤ X ├─X──┼─\n",
       "     └───┘ │  │ \n",
       "q_3: ──────┼──┼─\n",
       "     ┌───┐ │  │ \n",
       "q_4: ┤ X ├─X──X─\n",
       "     └───┘      </pre>"
      ],
      "text/plain": [
       "     ┌───┐      \n",
       "q_0: ┤ X ├────X─\n",
       "     └───┘    │ \n",
       "q_1: ─────────┼─\n",
       "     ┌───┐    │ \n",
       "q_2: ┤ X ├─X──┼─\n",
       "     └───┘ │  │ \n",
       "q_3: ──────┼──┼─\n",
       "     ┌───┐ │  │ \n",
       "q_4: ┤ X ├─X──X─\n",
       "     └───┘      "
      ]
     },
     "execution_count": 38,
     "metadata": {},
     "output_type": "execute_result"
    }
   ],
   "source": [
    "U = QuantumCircuit(int(np.ceil(np.log2(N))))   #a = 5\n",
    "\n",
    "U.x(0)\n",
    "U.x(2)\n",
    "U.x(4)\n",
    "U.swap(4, 2)\n",
    "U.swap(4, 0)\n",
    "\n",
    "U.draw()"
   ]
  },
  {
   "cell_type": "code",
   "execution_count": 39,
   "id": "95b1d9a5",
   "metadata": {},
   "outputs": [
    {
     "data": {
      "text/html": [
       "<pre style=\"word-wrap: normal;white-space: pre;background: #fff0;line-height: 1.1;font-family: &quot;Courier New&quot;,Courier,monospace\">        \n",
       "q_0: ─X─\n",
       "      │ \n",
       "q_1: ─┼─\n",
       "      │ \n",
       "q_2: ─┼─\n",
       "      │ \n",
       "q_3: ─X─\n",
       "        \n",
       "q_4: ───\n",
       "        </pre>"
      ],
      "text/plain": [
       "        \n",
       "q_0: ─X─\n",
       "      │ \n",
       "q_1: ─┼─\n",
       "      │ \n",
       "q_2: ─┼─\n",
       "      │ \n",
       "q_3: ─X─\n",
       "        \n",
       "q_4: ───\n",
       "        "
      ]
     },
     "execution_count": 39,
     "metadata": {},
     "output_type": "execute_result"
    }
   ],
   "source": [
    "U = QuantumCircuit(int(np.ceil(np.log2(N))))   #a = 8\n",
    "\n",
    "U.swap(0, 3)\n",
    "\n",
    "U.draw()"
   ]
  },
  {
   "cell_type": "code",
   "execution_count": null,
   "id": "d9a9082c",
   "metadata": {},
   "outputs": [],
   "source": []
  },
  {
   "cell_type": "code",
   "execution_count": 40,
   "id": "d4e09ac7",
   "metadata": {},
   "outputs": [
    {
     "data": {
      "text/html": [
       "<pre style=\"word-wrap: normal;white-space: pre;background: #fff0;line-height: 1.1;font-family: &quot;Courier New&quot;,Courier,monospace\">                            ┌───┐          ┌───┐               \n",
       "q_0: ───────■────■───X──────┤ X ├──────────┤ X ├──■────■───────\n",
       "            │    │   │      └─┬─┘          └─┬─┘  │    │       \n",
       "q_1: ───────┼────┼───┼────────┼──────────────┼────┼────┼───────\n",
       "     ┌───┐  │    │   │        │       ┌───┐  │  ┌─┴─┐  │       \n",
       "q_2: ┤ X ├──┼────┼───┼────────■────■──┤ X ├──■──┤ X ├──┼───────\n",
       "     ├───┤┌─┴─┐  │   │        │  ┌─┴─┐└───┘  │  └─┬─┘┌─┴─┐     \n",
       "q_3: ┤ X ├┤ X ├──┼───■───■────┼──┤ X ├───────■────┼──┤ X ├─────\n",
       "     └───┘└───┘  │   │   │    │  └─┬─┘            │  └─┬─┘     \n",
       "q_4: ────────────┼───X───┼────┼────┼──────────────┼────┼───────\n",
       "     ┌───┐       │     ┌─┴─┐  │    │  ┌───┐       │    │  ┌───┐\n",
       "q_5: ┤ X ├───────┼─────┤ X ├──┼────┼──┤ X ├───────■────■──┤ X ├\n",
       "     └───┘       │     └───┘  │    │  └───┘               └───┘\n",
       "q_6: ────────────┼────────────┼────┼───────────────────────────\n",
       "     ┌───┐     ┌─┴─┐          │    │                           \n",
       "q_7: ┤ X ├─────┤ X ├──────────■────■───────────────────────────\n",
       "     └───┘     └───┘                                           \n",
       "q_8: ──────────────────────────────────────────────────────────\n",
       "                                                               </pre>"
      ],
      "text/plain": [
       "                            ┌───┐          ┌───┐               \n",
       "q_0: ───────■────■───X──────┤ X ├──────────┤ X ├──■────■───────\n",
       "            │    │   │      └─┬─┘          └─┬─┘  │    │       \n",
       "q_1: ───────┼────┼───┼────────┼──────────────┼────┼────┼───────\n",
       "     ┌───┐  │    │   │        │       ┌───┐  │  ┌─┴─┐  │       \n",
       "q_2: ┤ X ├──┼────┼───┼────────■────■──┤ X ├──■──┤ X ├──┼───────\n",
       "     ├───┤┌─┴─┐  │   │        │  ┌─┴─┐└───┘  │  └─┬─┘┌─┴─┐     \n",
       "q_3: ┤ X ├┤ X ├──┼───■───■────┼──┤ X ├───────■────┼──┤ X ├─────\n",
       "     └───┘└───┘  │   │   │    │  └─┬─┘            │  └─┬─┘     \n",
       "q_4: ────────────┼───X───┼────┼────┼──────────────┼────┼───────\n",
       "     ┌───┐       │     ┌─┴─┐  │    │  ┌───┐       │    │  ┌───┐\n",
       "q_5: ┤ X ├───────┼─────┤ X ├──┼────┼──┤ X ├───────■────■──┤ X ├\n",
       "     └───┘       │     └───┘  │    │  └───┘               └───┘\n",
       "q_6: ────────────┼────────────┼────┼───────────────────────────\n",
       "     ┌───┐     ┌─┴─┐          │    │                           \n",
       "q_7: ┤ X ├─────┤ X ├──────────■────■───────────────────────────\n",
       "     └───┘     └───┘                                           \n",
       "q_8: ──────────────────────────────────────────────────────────\n",
       "                                                               "
      ]
     },
     "execution_count": 40,
     "metadata": {},
     "output_type": "execute_result"
    }
   ],
   "source": [
    "N = 451 #a = 37\n",
    "\n",
    "U = QuantumCircuit(int(np.ceil(np.log2(N))))\n",
    "\n",
    "U.x(2)\n",
    "U.x(3)\n",
    "U.x(5)\n",
    "U.x(7)\n",
    "U.cx(0, 3)\n",
    "U.cx(0, 7)\n",
    "U.cswap(3, 4, 0)\n",
    "U.cx(3, 5)\n",
    "U.ccx(2, 7, 0)\n",
    "U.ccx(2, 7, 3)\n",
    "U.x(2)\n",
    "U.ccx(2, 3, 0)\n",
    "U.x(5)\n",
    "U.ccx(0, 5, 2)\n",
    "U.ccx(0, 5, 3)\n",
    "U.x(5)\n",
    "\n",
    "U.draw()"
   ]
  },
  {
   "cell_type": "code",
   "execution_count": null,
   "id": "4100612f",
   "metadata": {},
   "outputs": [],
   "source": []
  }
 ],
 "metadata": {
  "kernelspec": {
   "display_name": "Python 3 (ipykernel)",
   "language": "python",
   "name": "python3"
  },
  "language_info": {
   "codemirror_mode": {
    "name": "ipython",
    "version": 3
   },
   "file_extension": ".py",
   "mimetype": "text/x-python",
   "name": "python",
   "nbconvert_exporter": "python",
   "pygments_lexer": "ipython3",
   "version": "3.9.7"
  }
 },
 "nbformat": 4,
 "nbformat_minor": 5
}
